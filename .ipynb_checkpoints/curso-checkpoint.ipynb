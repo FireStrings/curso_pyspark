{
 "cells": [
  {
   "cell_type": "code",
   "execution_count": null,
   "id": "5b096ee0-b3d0-41fc-b2bf-edcb2a908858",
   "metadata": {},
   "outputs": [],
   "source": [
    "#imports\n",
    "from pyspark.sql import SparkSession\n",
    "from pyspark.sql import functions as f\n",
    "import pandas as pd\n",
    "from pyspark.sql.window import Window\n",
    "import os\n",
    "# os.popen(\"echo $JAVA_HOME\").read()\n",
    "os.environ[\"JAVA_HOME\"] = \"/usr/lib/jvm/java-8-openjdk-amd64\"\n",
    "os.environ['PYSPARK_SUBMIT_ARGS'] = \\\n",
    "  '--jars /home/leo/Documentos/Projetos/Projetos_Jupyter/Curso_PySpark/postgresql-42.2.23.jar pyspark-shell'\n",
    "os.environ['PYSPARK_SUBMIT_ARGS'] = \\\n",
    "  '--packages org.mongodb.spark:mongo-spark-connector_2.12:3.0.1 pyspark-shell'"
   ]
  },
  {
   "cell_type": "markdown",
   "id": "58635831-86c2-4d54-8b0b-a1bdb45c3599",
   "metadata": {},
   "source": [
    "## RDD"
   ]
  },
  {
   "cell_type": "code",
   "execution_count": 2,
   "id": "2ddfeaf5-dc1b-4564-9df9-9f6c104d4084",
   "metadata": {},
   "outputs": [],
   "source": [
    "#Create spark session\n",
    "spark = SparkSession.builder.appName(\"challenge_nupay\").getOrCreate()\n",
    "sc=spark.sparkContext"
   ]
  },
  {
   "cell_type": "code",
   "execution_count": 3,
   "id": "67f2e54d-120e-4dc5-853e-e5ebb4df4a1c",
   "metadata": {},
   "outputs": [
    {
     "data": {
      "text/html": [
       "\n",
       "            <div>\n",
       "                <p><b>SparkSession - in-memory</b></p>\n",
       "                \n",
       "        <div>\n",
       "            <p><b>SparkContext</b></p>\n",
       "\n",
       "            <p><a href=\"http://pb6a8000c.tokynt01.ap.so-net.ne.jp:4041\">Spark UI</a></p>\n",
       "\n",
       "            <dl>\n",
       "              <dt>Version</dt>\n",
       "                <dd><code>v3.1.2</code></dd>\n",
       "              <dt>Master</dt>\n",
       "                <dd><code>local[*]</code></dd>\n",
       "              <dt>AppName</dt>\n",
       "                <dd><code>challenge_nupay</code></dd>\n",
       "            </dl>\n",
       "        </div>\n",
       "        \n",
       "            </div>\n",
       "        "
      ],
      "text/plain": [
       "<pyspark.sql.session.SparkSession at 0x7f5edcaa11d0>"
      ]
     },
     "execution_count": 3,
     "metadata": {},
     "output_type": "execute_result"
    }
   ],
   "source": [
    "spark"
   ]
  },
  {
   "cell_type": "code",
   "execution_count": null,
   "id": "46bdfff8-c952-47be-938d-e0e3f7dc95cf",
   "metadata": {},
   "outputs": [],
   "source": [
    "numeros = sc.parallelize([1,2,3,4,5,6,7,8,9,10])"
   ]
  },
  {
   "cell_type": "code",
   "execution_count": null,
   "id": "afdcb213-d167-4e8f-924f-5303ea6588f0",
   "metadata": {},
   "outputs": [],
   "source": [
    "filtro = numeros.filter(lambda filtro: filtro > 2)"
   ]
  },
  {
   "cell_type": "code",
   "execution_count": null,
   "id": "7afbdd79-d1b0-464f-817e-b2c0fc6bf8b4",
   "metadata": {},
   "outputs": [],
   "source": [
    "filtro.collect()"
   ]
  },
  {
   "cell_type": "code",
   "execution_count": null,
   "id": "0e1fc50d-aef4-49ed-ba5a-88cb20d34469",
   "metadata": {},
   "outputs": [],
   "source": [
    "amostra = numeros.sample(True, 0.5, 1)"
   ]
  },
  {
   "cell_type": "code",
   "execution_count": null,
   "id": "be3892ab-0605-4dca-8fab-7cb1b6c68bd5",
   "metadata": {},
   "outputs": [],
   "source": [
    "amostra.collect()"
   ]
  },
  {
   "cell_type": "code",
   "execution_count": null,
   "id": "d24524cf-b858-459b-b993-979a1018e418",
   "metadata": {},
   "outputs": [],
   "source": [
    "mapa = numeros.map(lambda mapa: mapa*2)"
   ]
  },
  {
   "cell_type": "code",
   "execution_count": null,
   "id": "6b17b491-0339-4ffb-9dbc-a5dfffe9a680",
   "metadata": {},
   "outputs": [],
   "source": [
    "mapa.collect()"
   ]
  },
  {
   "cell_type": "code",
   "execution_count": null,
   "id": "86c954d4-284a-4d40-823a-2033c54dc785",
   "metadata": {},
   "outputs": [],
   "source": [
    "numeros2 = sc.parallelize([6,7,8,9,10])"
   ]
  },
  {
   "cell_type": "code",
   "execution_count": null,
   "id": "4a44b1f5-8a38-4102-ad20-b0c0f24dd901",
   "metadata": {},
   "outputs": [],
   "source": [
    "uniao = numeros.union(numeros2)"
   ]
  },
  {
   "cell_type": "code",
   "execution_count": null,
   "id": "83800744-6898-4556-81c8-a928cd6ffde1",
   "metadata": {},
   "outputs": [],
   "source": [
    "uniao.collect()"
   ]
  },
  {
   "cell_type": "code",
   "execution_count": null,
   "id": "f004ef5c-768a-46a1-b5af-dc12fab36368",
   "metadata": {},
   "outputs": [],
   "source": [
    "interseccao = numeros.intersection(numeros2)"
   ]
  },
  {
   "cell_type": "code",
   "execution_count": null,
   "id": "8364c533-bedd-4973-aa49-e262de0409f2",
   "metadata": {},
   "outputs": [],
   "source": [
    "interseccao.collect()"
   ]
  },
  {
   "cell_type": "code",
   "execution_count": null,
   "id": "d5a628b5-ae59-4aa1-bf0b-439f883edd1c",
   "metadata": {},
   "outputs": [],
   "source": [
    "subtrai = numeros.subtract(numeros2)"
   ]
  },
  {
   "cell_type": "code",
   "execution_count": null,
   "id": "03e3b8a0-a9d7-44b0-8a95-82aea394c982",
   "metadata": {},
   "outputs": [],
   "source": [
    "subtrai.collect()"
   ]
  },
  {
   "cell_type": "code",
   "execution_count": null,
   "id": "9765e6c9-b75f-471d-b583-6f4a1c50f898",
   "metadata": {},
   "outputs": [],
   "source": [
    "cartesiano = numeros.cartesian(numeros2)"
   ]
  },
  {
   "cell_type": "code",
   "execution_count": null,
   "id": "1f1cc6cd-c96e-4175-94d2-bcd4d6d09b12",
   "metadata": {},
   "outputs": [],
   "source": [
    "# cartesiano.collect()"
   ]
  },
  {
   "cell_type": "code",
   "execution_count": null,
   "id": "ed54acd4-2e0a-4bf3-bbe8-29fe4b39b053",
   "metadata": {},
   "outputs": [],
   "source": [
    "# cartesiano.countByValue()"
   ]
  },
  {
   "cell_type": "code",
   "execution_count": null,
   "id": "c348b145-b8b1-4264-94d9-2d3c1b5fa06e",
   "metadata": {},
   "outputs": [],
   "source": [
    "compras = sc.parallelize([(1, 200), (2, 300), (3, 120), (4,250), (5, 78)])"
   ]
  },
  {
   "cell_type": "code",
   "execution_count": null,
   "id": "579322f4-301d-454e-82de-b7acd9f5a5ab",
   "metadata": {},
   "outputs": [],
   "source": [
    "compras.collect()"
   ]
  },
  {
   "cell_type": "code",
   "execution_count": null,
   "id": "0db74a0f-be9f-4a6c-be28-450a2c252a03",
   "metadata": {},
   "outputs": [],
   "source": [
    "chaves = compras.keys()\n",
    "valores = compras.values()"
   ]
  },
  {
   "cell_type": "code",
   "execution_count": null,
   "id": "0f72d12e-d4ae-4ace-aa7d-eb9a51883b98",
   "metadata": {},
   "outputs": [],
   "source": [
    "chaves.collect()"
   ]
  },
  {
   "cell_type": "code",
   "execution_count": null,
   "id": "70ecb7d7-2658-4deb-a2a1-5a1464842d7b",
   "metadata": {},
   "outputs": [],
   "source": [
    "valores.collect()"
   ]
  },
  {
   "cell_type": "code",
   "execution_count": null,
   "id": "654a2818-621d-4773-ad62-58b5f8980efe",
   "metadata": {},
   "outputs": [],
   "source": [
    "compras.countByKey()"
   ]
  },
  {
   "cell_type": "code",
   "execution_count": null,
   "id": "95a7522f-afba-4437-919c-1262e4457d39",
   "metadata": {},
   "outputs": [],
   "source": [
    "soma = compras.mapValues(lambda soma: soma +1)"
   ]
  },
  {
   "cell_type": "code",
   "execution_count": null,
   "id": "866e0e84-bd68-405b-b958-97a3d415cd36",
   "metadata": {},
   "outputs": [],
   "source": [
    "soma.collect()"
   ]
  },
  {
   "cell_type": "code",
   "execution_count": null,
   "id": "722236bc-f94c-4e8a-ae21-34461e35cc8e",
   "metadata": {},
   "outputs": [],
   "source": [
    "debitos = sc.parallelize([(1,20), (2,300)])"
   ]
  },
  {
   "cell_type": "code",
   "execution_count": null,
   "id": "e8ed5b6c-43d4-4e7a-bff4-a7e83cdb60d9",
   "metadata": {},
   "outputs": [],
   "source": [
    "resultado = compras.join(debitos)"
   ]
  },
  {
   "cell_type": "code",
   "execution_count": null,
   "id": "65668c35-b96c-4a2e-abeb-aa5f693042fb",
   "metadata": {},
   "outputs": [],
   "source": [
    "resultado.collect()"
   ]
  },
  {
   "cell_type": "code",
   "execution_count": null,
   "id": "1512c3a9-411c-433f-acea-99e757acb27e",
   "metadata": {},
   "outputs": [],
   "source": [
    "semdebito = compras.subtractByKey(debitos)"
   ]
  },
  {
   "cell_type": "code",
   "execution_count": null,
   "id": "ccd9e3ed-fc4c-404c-b0c6-410b04abeb3c",
   "metadata": {},
   "outputs": [],
   "source": [
    "semdebito.collect()"
   ]
  },
  {
   "cell_type": "markdown",
   "id": "a64ec0c8-4fe0-4ca1-9b6f-796b7b56e1e4",
   "metadata": {},
   "source": [
    "## DataFrame"
   ]
  },
  {
   "cell_type": "code",
   "execution_count": null,
   "id": "9ef91344-274b-4dfc-88bb-7f3724e870b6",
   "metadata": {},
   "outputs": [],
   "source": [
    "df = spark.createDataFrame([(\"Nome 1\", 10), (\"Nome 2\", 20), (\"Nome 3\", 40)])"
   ]
  },
  {
   "cell_type": "code",
   "execution_count": null,
   "id": "4abc6385-4428-4f25-947c-36a940d62e84",
   "metadata": {},
   "outputs": [],
   "source": [
    "df.show()"
   ]
  },
  {
   "cell_type": "code",
   "execution_count": null,
   "id": "8e355ecc-b23a-4c46-ab5a-805f1ca56e64",
   "metadata": {},
   "outputs": [],
   "source": [
    "schema = \"Id INT, Nome String\"\n",
    "dados = [[1, \"Pedro\"], [2, \"Maria\"]]"
   ]
  },
  {
   "cell_type": "code",
   "execution_count": null,
   "id": "7ba9b2f8-736c-4f4b-a451-d38986caeb15",
   "metadata": {},
   "outputs": [],
   "source": [
    "df2 = spark.createDataFrame(dados, schema)"
   ]
  },
  {
   "cell_type": "code",
   "execution_count": null,
   "id": "db9e6353-e6f7-408f-96ae-23e0e10e6efd",
   "metadata": {},
   "outputs": [],
   "source": [
    "df2.show()"
   ]
  },
  {
   "cell_type": "code",
   "execution_count": null,
   "id": "2604abd5-3abb-49d6-b4ef-095759e87a94",
   "metadata": {},
   "outputs": [],
   "source": [
    "import pyspark.sql.functions as f"
   ]
  },
  {
   "cell_type": "code",
   "execution_count": null,
   "id": "8cda5ba0-d701-4b7e-b28e-0d245f7446f3",
   "metadata": {},
   "outputs": [],
   "source": [
    "schema2 = \"Produtos STRING, Vendas INT\"\n",
    "vendas = [[\"Caneta\", 10],[\"Lapis\", 20],[\"Caneta\", 40]]"
   ]
  },
  {
   "cell_type": "code",
   "execution_count": null,
   "id": "fe0dfa8d-b5a2-46c3-8985-0a83dff88492",
   "metadata": {},
   "outputs": [],
   "source": [
    "df3 = spark.createDataFrame(vendas, schema2)"
   ]
  },
  {
   "cell_type": "code",
   "execution_count": null,
   "id": "584c82b5-76c0-4878-86de-9e57f1c46157",
   "metadata": {},
   "outputs": [],
   "source": [
    "agrupado = df3.groupBy(\"Produtos\").agg(f.sum(\"Vendas\"))"
   ]
  },
  {
   "cell_type": "code",
   "execution_count": null,
   "id": "11e1885a-a358-4777-90c5-dca6aaadba58",
   "metadata": {},
   "outputs": [],
   "source": [
    "l = [\"Vendas\", \"Produtos\"]\n",
    "# agrupado.select(*l).show()"
   ]
  },
  {
   "cell_type": "code",
   "execution_count": null,
   "id": "a48c9cb9-04d4-47c6-985f-82aa2daeb168",
   "metadata": {},
   "outputs": [],
   "source": [
    "df3.select(*l, f.expr(\"Vendas * 0.2\").alias(\"Perc\")).show()"
   ]
  },
  {
   "cell_type": "code",
   "execution_count": null,
   "id": "76a464a9-1561-4b34-868d-effb1084bccf",
   "metadata": {},
   "outputs": [],
   "source": [
    "df3.columns"
   ]
  },
  {
   "cell_type": "code",
   "execution_count": null,
   "id": "d928c3d4-295d-4bef-82e4-03adfab8a3d9",
   "metadata": {},
   "outputs": [],
   "source": [
    "from pyspark.sql.types import *\n",
    "arqschema = \"id INT, nome STRING, status STRING, cidade STRING, vendas INT, data STRING\""
   ]
  },
  {
   "cell_type": "code",
   "execution_count": null,
   "id": "5430b8db-8e66-4cf1-a425-00d55f77b8e8",
   "metadata": {},
   "outputs": [],
   "source": [
    "despachantes = spark.read.csv(\"material_curso_pyspark/dados/despachantes.csv\", header=False, schema=arqschema)"
   ]
  },
  {
   "cell_type": "code",
   "execution_count": null,
   "id": "b4b8b059-2eed-4a7d-a6bd-7f1b954c39a6",
   "metadata": {},
   "outputs": [],
   "source": [
    "despachantes.show()"
   ]
  },
  {
   "cell_type": "code",
   "execution_count": null,
   "id": "4832905d-461e-49e8-846e-07c12d9110dd",
   "metadata": {},
   "outputs": [],
   "source": [
    "desp_autoschema = spark.read.load(\"material_curso_pyspark/dados/despachantes.csv\", header=False, format=\"csv\", sep=\",\", inferSchema=True)"
   ]
  },
  {
   "cell_type": "code",
   "execution_count": null,
   "id": "4cfac8f3-ea69-4824-a1f8-0f2c13e6b147",
   "metadata": {},
   "outputs": [],
   "source": [
    "desp_autoschema.show()"
   ]
  },
  {
   "cell_type": "code",
   "execution_count": null,
   "id": "2b9b2aa3-f460-492b-9c6a-c3c786b24653",
   "metadata": {},
   "outputs": [],
   "source": [
    "desp_autoschema.schema"
   ]
  },
  {
   "cell_type": "code",
   "execution_count": null,
   "id": "844372d2-d814-4ac5-a5f2-d71c1e7cc295",
   "metadata": {},
   "outputs": [],
   "source": [
    "despachantes.select(\"id\", \"nome\", \"vendas\").filter((f.col(\"vendas\") > 20) & (f.col(\"vendas\") < 40)).show()"
   ]
  },
  {
   "cell_type": "code",
   "execution_count": null,
   "id": "17b9ee82-d3cf-4e40-b319-cdc910c41c2f",
   "metadata": {},
   "outputs": [],
   "source": [
    "novodf = despachantes.withColumnRenamed(\"nome\", \"nomes\")"
   ]
  },
  {
   "cell_type": "code",
   "execution_count": null,
   "id": "fa1f40f9-1960-4f9b-902f-8c1902353716",
   "metadata": {},
   "outputs": [],
   "source": [
    "novodf.columns"
   ]
  },
  {
   "cell_type": "code",
   "execution_count": null,
   "id": "c240b849-8dd7-4fc0-96ad-b669a089eb1e",
   "metadata": {},
   "outputs": [],
   "source": [
    "despachantes2 = despachantes.withColumn(\"data2\", f.to_timestamp(f.col(\"data\"), \"yyyy-MM-dd\"))"
   ]
  },
  {
   "cell_type": "code",
   "execution_count": null,
   "id": "24a1d8f0-3b80-4039-bc04-0218c0406dcd",
   "metadata": {},
   "outputs": [],
   "source": [
    "despachantes2.show()"
   ]
  },
  {
   "cell_type": "code",
   "execution_count": null,
   "id": "b8a9eeb7-b560-49a5-818a-97079055bd8b",
   "metadata": {},
   "outputs": [],
   "source": [
    "despachantes2.schema"
   ]
  },
  {
   "cell_type": "code",
   "execution_count": null,
   "id": "362997b5-ea54-4a53-ba86-c6096861811b",
   "metadata": {},
   "outputs": [],
   "source": [
    "despachantes2.select(f.year(\"data2\")).distinct().show()"
   ]
  },
  {
   "cell_type": "code",
   "execution_count": null,
   "id": "a2cbe7f4-5309-486f-aef8-2684e7b665f7",
   "metadata": {},
   "outputs": [],
   "source": [
    "despachantes2.select(\"nome\", f.year(\"data2\")).orderBy(\"nome\").show()"
   ]
  },
  {
   "cell_type": "code",
   "execution_count": null,
   "id": "0eb8bc42-392b-48ee-acc2-e764e4c135a2",
   "metadata": {},
   "outputs": [],
   "source": [
    "despachantes2.select(\"data\").groupBy(f.year(\"data\")).count().show()"
   ]
  },
  {
   "cell_type": "code",
   "execution_count": null,
   "id": "60b8e37b-4181-4925-9a16-c7aff798e28c",
   "metadata": {},
   "outputs": [],
   "source": [
    "despachantes2.select(f.sum(\"vendas\")).show()"
   ]
  },
  {
   "cell_type": "code",
   "execution_count": null,
   "id": "aaad7891-fda5-4385-8e59-2d8350df00a8",
   "metadata": {},
   "outputs": [],
   "source": [
    "spark2 = SparkSession.builder.master(\"yarn\").appName(\"challenge_nupay2\").getOrCreate()"
   ]
  },
  {
   "cell_type": "code",
   "execution_count": null,
   "id": "cf9b1553-3bf3-4b6e-abd5-cb9a64d35fd7",
   "metadata": {},
   "outputs": [],
   "source": [
    "spark2.createDataFrame([(1,\"a\"), (2, \"b\")], [\"n\", \"v\"]).show()"
   ]
  },
  {
   "cell_type": "code",
   "execution_count": null,
   "id": "2ac1dcfd-fd66-46d4-b151-c1ce94ff2e4b",
   "metadata": {},
   "outputs": [],
   "source": [
    "despachantes.orderBy(f.col(\"cidade\").desc(), f.col(\"vendas\").desc()).show()"
   ]
  },
  {
   "cell_type": "code",
   "execution_count": null,
   "id": "ebcd4da5-5ef3-4cde-a56b-1cf3c44095ea",
   "metadata": {},
   "outputs": [],
   "source": [
    "despachantes.groupBy(\"cidade\").agg(f.sum(\"vendas\")).orderBy(f.col(\"sum(vendas)\").desc()).show()"
   ]
  },
  {
   "cell_type": "code",
   "execution_count": null,
   "id": "a6d44b38-f746-41f6-9d84-401534557073",
   "metadata": {},
   "outputs": [],
   "source": [
    "despachantes.filter(f.col(\"nome\") == \"Deolinda Vilela\").show()"
   ]
  },
  {
   "cell_type": "code",
   "execution_count": null,
   "id": "a26a1193-9b0d-44ce-b29d-8a2ad3ccea2e",
   "metadata": {},
   "outputs": [],
   "source": [
    "despachantes.write.format(\"orc\").save(\"material_curso_pyspark/dados/output_leo/df_import_orc\")"
   ]
  },
  {
   "cell_type": "code",
   "execution_count": null,
   "id": "8bf7f3b5-6edc-4a20-ad68-b2b57cb4119c",
   "metadata": {},
   "outputs": [],
   "source": [
    "par = spark.read.format(\"parquet\").load(\"material_curso_pyspark/dados/output_leo/df_import_parquet/part-00000-afe3bc62-9390-41fc-ada7-caeacf12d574-c000.snappy.parquet\")"
   ]
  },
  {
   "cell_type": "code",
   "execution_count": null,
   "id": "e4199219-8cee-4454-a298-74aa1d4c6fae",
   "metadata": {},
   "outputs": [],
   "source": [
    "js = spark.read.format(\"json\").load(\"material_curso_pyspark/dados/output_leo/df_import_json/part-00000-4179212c-b417-4041-90df-b5c6a5875d13-c000.json\")"
   ]
  },
  {
   "cell_type": "code",
   "execution_count": null,
   "id": "f6516ecd-89ab-4102-aac1-471372f72151",
   "metadata": {},
   "outputs": [],
   "source": [
    "orc = spark.read.format(\"orc\").load(\"material_curso_pyspark/dados/output_leo/df_import_orc/part-00000-ad232a5f-e484-46d8-ba86-78ca93fe02e8-c000.snappy.orc\")"
   ]
  },
  {
   "cell_type": "code",
   "execution_count": null,
   "id": "9213aa63-83bd-4395-9081-41077bb9fbff",
   "metadata": {},
   "outputs": [],
   "source": [
    "csv = spark.read.format(\"csv\").load(\"material_curso_pyspark/dados/output_leo/df_import_csv/part-00000-2ebc0ed9-38aa-4926-9c69-ca927e785914-c000.csv\")"
   ]
  },
  {
   "cell_type": "markdown",
   "id": "013db84b-70ed-4351-bae3-ecb9a48a619d",
   "metadata": {},
   "source": [
    "## Atividade\n",
    "\n",
    "#### 1 - Crie uma consulta que mostre, nesta ordem: Nome, Estados e Status \n",
    "\n",
    "#### 2 - Crie uma consulta que mostre apenas os clientes do Status \"platinum\" e \"gold\"\n",
    "\n",
    "#### 3 - Demonstre quanto cada Status de Clientes representa em vendas"
   ]
  },
  {
   "cell_type": "code",
   "execution_count": null,
   "id": "c6b69155-c6a9-4b0d-b90b-7bf2b0b52b89",
   "metadata": {},
   "outputs": [],
   "source": [
    "df_clientes = spark.read.format(\"parquet\").load(\"material_curso_pyspark/dados/Atividades/Clientes.parquet\")\n",
    "df_ivendas = spark.read.format(\"parquet\").load(\"material_curso_pyspark/dados/Atividades/ItensVendas.parquet\")\n",
    "df_produtos = spark.read.format(\"parquet\").load(\"material_curso_pyspark/dados/Atividades/Produtos.parquet\")\n",
    "df_vendas = spark.read.format(\"parquet\").load(\"material_curso_pyspark/dados/Atividades/Vendas.parquet\")\n",
    "df_vendedores = spark.read.format(\"parquet\").load(\"material_curso_pyspark/dados/Atividades/Vendedores.parquet\")"
   ]
  },
  {
   "cell_type": "markdown",
   "id": "558a8963-3795-4501-bdd7-fdafdc9db4fc",
   "metadata": {},
   "source": [
    "### Ativ. 1:"
   ]
  },
  {
   "cell_type": "code",
   "execution_count": null,
   "id": "f5f8185f-1eab-4a52-82a0-aa322e203b5c",
   "metadata": {},
   "outputs": [],
   "source": [
    "df_clientes.select(\"Cliente\", \"Estado\", \"Status\").show(5)"
   ]
  },
  {
   "cell_type": "markdown",
   "id": "cff037c7-0b1e-4da7-9b85-3fcd1d3906c6",
   "metadata": {},
   "source": [
    "### Ativ. 2:"
   ]
  },
  {
   "cell_type": "code",
   "execution_count": null,
   "id": "5ef843b1-18a8-4199-ac5e-41bd458e1366",
   "metadata": {},
   "outputs": [],
   "source": [
    "df_clientes.filter(f.col(\"Status\").isin([\"Platinum\", \"Gold\"])).show(5)"
   ]
  },
  {
   "cell_type": "markdown",
   "id": "997bf867-6fbe-4e6e-a8df-cfc850af5629",
   "metadata": {},
   "source": [
    "### Ativ. 3:"
   ]
  },
  {
   "cell_type": "code",
   "execution_count": null,
   "id": "4753d71b-3e62-48f8-a8ce-948ae40e2daf",
   "metadata": {},
   "outputs": [],
   "source": [
    "# df_clientes.groupBy(\"Status\").agg(f.col())\n",
    "df_vendas.join(df_clientes, on=[\"ClienteID\"], how=\"inner\")\\\n",
    ".groupBy(\"Status\").agg(f.sum(\"Total\").alias(\"tot\")).withColumn(\"result\", f.round(\"tot\")).show()\n",
    "# df_vendas.show()"
   ]
  },
  {
   "cell_type": "markdown",
   "id": "1a9828e1-bbe3-4815-b8c2-0d425f32d4a3",
   "metadata": {},
   "source": [
    "## Spark SQL"
   ]
  },
  {
   "cell_type": "code",
   "execution_count": null,
   "id": "0dc7d90f-fa2e-48cf-bada-2ff33b1a3e19",
   "metadata": {},
   "outputs": [],
   "source": [
    "from pyspark.sql.types import *"
   ]
  },
  {
   "cell_type": "code",
   "execution_count": null,
   "id": "644b549f-590f-43e7-8704-441c08c16e8c",
   "metadata": {},
   "outputs": [],
   "source": [
    "spark.sql(\"create database desp\")"
   ]
  },
  {
   "cell_type": "code",
   "execution_count": null,
   "id": "9bfaef80-0271-40f3-ae7b-5f58936f957a",
   "metadata": {},
   "outputs": [],
   "source": [
    "spark.sql(\"show databases\").show()"
   ]
  },
  {
   "cell_type": "code",
   "execution_count": null,
   "id": "47934e58-19ac-46f2-8e08-986edc969aea",
   "metadata": {},
   "outputs": [],
   "source": [
    "spark.sql(\"use desp\")"
   ]
  },
  {
   "cell_type": "code",
   "execution_count": null,
   "id": "26154304-0841-4b0b-9fe6-9978de57d58e",
   "metadata": {},
   "outputs": [],
   "source": [
    "spark.sql(\"show tables\").show()"
   ]
  },
  {
   "cell_type": "code",
   "execution_count": null,
   "id": "08e521ff-1043-4813-bf2b-23af4880221c",
   "metadata": {},
   "outputs": [],
   "source": [
    "from pyspark.sql.types import *\n",
    "arqschema = \"id INT, nome STRING, status STRING, cidade STRING, vendas INT, data STRING\""
   ]
  },
  {
   "cell_type": "code",
   "execution_count": null,
   "id": "72c474d4-a227-4e26-a001-468a062f86ef",
   "metadata": {},
   "outputs": [],
   "source": [
    "despachantes = spark.read.csv(\"material_curso_pyspark/dados/despachantes.csv\", header=False, schema=arqschema)"
   ]
  },
  {
   "cell_type": "code",
   "execution_count": null,
   "id": "1065e4d4-d645-4c25-94cf-611c64377f05",
   "metadata": {},
   "outputs": [],
   "source": [
    "despachantes.write.saveAsTable(\"Despachantes\")"
   ]
  },
  {
   "cell_type": "code",
   "execution_count": null,
   "id": "39c986f1-a13d-4671-a67b-1d3623d2365a",
   "metadata": {},
   "outputs": [],
   "source": [
    "spark.sql(\"select * from despachantes\").show(5)"
   ]
  },
  {
   "cell_type": "code",
   "execution_count": null,
   "id": "952ae756-c319-4eb0-99e0-df29d3f500c8",
   "metadata": {},
   "outputs": [],
   "source": [
    "despachantes.write.mode(\"overwrite\").saveAsTable(\"Despachantes\")\n",
    "# despachantes.write.mode(\"append\").saveAsTable(\"Despachantes\")"
   ]
  },
  {
   "cell_type": "code",
   "execution_count": null,
   "id": "8986e8d0-29d9-4631-91b0-1d38d2f75a7b",
   "metadata": {},
   "outputs": [],
   "source": [
    "#Gerenciada\n",
    "despachantes.write.format(\"parquet\").save(\"material_curso_pyspark/dados/output_leo/desparquet\")\n",
    "\n",
    "#Não Gerenciada\n",
    "despachantes.write.option(\"path\", \"/home/leo/Documentos/Projetos/Projetos_Jupyter/data/material_curso_pyspark/dados/output_leo/desparquet\")\\\n",
    ".saveAsTable(\"Despachantes_ng\")"
   ]
  },
  {
   "cell_type": "code",
   "execution_count": null,
   "id": "4161d0d0-42d7-4b5c-87a5-658761c2cfd7",
   "metadata": {},
   "outputs": [],
   "source": [
    "spark.sql(\"select * from despachantes_ng\").show(5)"
   ]
  },
  {
   "cell_type": "code",
   "execution_count": null,
   "id": "333abb7f-d041-4fdf-b342-970230d29f8f",
   "metadata": {},
   "outputs": [],
   "source": []
  },
  {
   "cell_type": "code",
   "execution_count": null,
   "id": "d0d783d7-b92c-43b1-a70e-419c94a30861",
   "metadata": {},
   "outputs": [],
   "source": []
  },
  {
   "cell_type": "code",
   "execution_count": null,
   "id": "1f9441f8-e114-4a93-8a83-074e2cebcec0",
   "metadata": {},
   "outputs": [],
   "source": [
    "# spark.sql(\"show create table Despachantes_ng\").show(5, False)"
   ]
  },
  {
   "cell_type": "code",
   "execution_count": null,
   "id": "3f3cc0fc-44ac-46be-8042-5e6c62e960cc",
   "metadata": {},
   "outputs": [],
   "source": [
    "spark.catalog.listTables()"
   ]
  },
  {
   "cell_type": "code",
   "execution_count": null,
   "id": "d5017136-5729-4ef1-bb50-41745d0ef81d",
   "metadata": {},
   "outputs": [],
   "source": [
    "despachantes.createOrReplaceTempView(\"Despachantes_view1\")"
   ]
  },
  {
   "cell_type": "code",
   "execution_count": null,
   "id": "a8781e9d-9e8b-494b-975b-9240e147757d",
   "metadata": {},
   "outputs": [],
   "source": [
    "spark.sql(\"select * from despachantes_view1\").show()"
   ]
  },
  {
   "cell_type": "code",
   "execution_count": null,
   "id": "f6b87690-e3bf-4dcd-947a-85969b60276d",
   "metadata": {},
   "outputs": [],
   "source": [
    "despachantes.createOrReplaceGlobalTempView(\"Despachantes_view2\")"
   ]
  },
  {
   "cell_type": "code",
   "execution_count": null,
   "id": "e69c127f-0752-4b33-9cbf-4de99d01ff3c",
   "metadata": {},
   "outputs": [],
   "source": [
    "spark.sql(\"select * from global_temp.despachantes_view2\").show()"
   ]
  },
  {
   "cell_type": "code",
   "execution_count": null,
   "id": "99cd3e86-8bd4-463c-bcdd-5ac90057d7c4",
   "metadata": {},
   "outputs": [],
   "source": [
    "spark.sql(\"create or replace temp view desp_view as select * from despachantes\")"
   ]
  },
  {
   "cell_type": "code",
   "execution_count": null,
   "id": "1be5cb7d-033d-4be5-8597-0a58353f1f79",
   "metadata": {},
   "outputs": [],
   "source": [
    "spark.sql(\"select * from desp_view\").show()"
   ]
  },
  {
   "cell_type": "code",
   "execution_count": null,
   "id": "fb2d567f-bfc5-4d22-838b-48a1a92eb91a",
   "metadata": {},
   "outputs": [],
   "source": [
    "spark.sql(\"create or replace global temp view desp_view2 as select * from despachantes\")"
   ]
  },
  {
   "cell_type": "code",
   "execution_count": null,
   "id": "bfa1178a-ca9f-4131-bdbc-ba3d2229e55f",
   "metadata": {},
   "outputs": [],
   "source": [
    "spark.sql(\"select * from global_temp.desp_view2\").show()"
   ]
  },
  {
   "cell_type": "code",
   "execution_count": null,
   "id": "7163cb7c-a5f9-44d1-8ab0-8f96780f84c8",
   "metadata": {},
   "outputs": [],
   "source": [
    "despachantes.where(f.col(\"vendas\") > 20).show()"
   ]
  },
  {
   "cell_type": "code",
   "execution_count": null,
   "id": "6b7b2142-e450-4794-9f0b-9a668053585e",
   "metadata": {},
   "outputs": [],
   "source": [
    "spark.sql(\"select cidade, sum(vendas) from despachantes group by cidade order by 2 desc\").show()"
   ]
  },
  {
   "cell_type": "code",
   "execution_count": null,
   "id": "3a419ca6-f486-488f-92d1-2cf7b91a272e",
   "metadata": {},
   "outputs": [],
   "source": [
    "despachantes.groupBy(\"cidade\").agg(f.sum(\"vendas\")).orderBy(f.col(\"sum(vendas)\").desc()).show()"
   ]
  },
  {
   "cell_type": "code",
   "execution_count": null,
   "id": "b1c3ca59-d712-429e-88df-68648e6b4a97",
   "metadata": {},
   "outputs": [],
   "source": [
    "#Teste meu, não faz parte do curso\n",
    "from pyspark.sql.window import Window\n",
    "from pyspark.sql.functions import row_number\n",
    "windowSpec  = Window.partitionBy(\"cidade\").orderBy(\"vendas\")\n",
    "\n",
    "# despachantes.withColumn(\"row_number\",row_number().over(windowSpec)) \\\n",
    "#     .show(100, truncate=False)\n",
    "despachantes.withColumn(\"rank\", f.rank().over(windowSpec)) \\\n",
    "    .show(100, truncate=False)"
   ]
  },
  {
   "cell_type": "code",
   "execution_count": null,
   "id": "d8b32817-2835-4c6d-9201-cddd4b3ea869",
   "metadata": {},
   "outputs": [],
   "source": [
    "recschema = \"idrec INT, datarec STRING, iddesp INT\""
   ]
  },
  {
   "cell_type": "code",
   "execution_count": null,
   "id": "c9fb6513-e729-4be8-bd2d-05bb2faf4db3",
   "metadata": {},
   "outputs": [],
   "source": [
    "reclamacoes = spark.read.csv(\"material_curso_pyspark/dados/reclamacoes.csv\", header=False, schema=recschema)"
   ]
  },
  {
   "cell_type": "code",
   "execution_count": null,
   "id": "9225ebfa-6db9-4ce1-9234-2aead78d5935",
   "metadata": {},
   "outputs": [],
   "source": [
    "reclamacoes.show()"
   ]
  },
  {
   "cell_type": "code",
   "execution_count": null,
   "id": "cf42d036-c131-4771-9691-224221b5347e",
   "metadata": {},
   "outputs": [],
   "source": [
    "reclamacoes.write.saveAsTable(\"reclamacoes\")"
   ]
  },
  {
   "cell_type": "code",
   "execution_count": null,
   "id": "b3738cb7-ee6b-4264-bea9-365830a53713",
   "metadata": {},
   "outputs": [],
   "source": [
    "spark.sql(\"select d.nome, r.* from despachantes d inner join reclamacoes r on iddesp = id\").show()"
   ]
  },
  {
   "cell_type": "code",
   "execution_count": null,
   "id": "da4781d4-a61c-4b72-9d1b-d6bfd3ff3862",
   "metadata": {},
   "outputs": [],
   "source": [
    "spark.sql(\"select d.nome, r.* from despachantes d left join reclamacoes r on iddesp = id\").show()"
   ]
  },
  {
   "cell_type": "code",
   "execution_count": null,
   "id": "13224400-98b8-4942-9e70-cc0d833d762e",
   "metadata": {},
   "outputs": [],
   "source": [
    "spark.sql(\"select d.nome, r.* from despachantes d right join reclamacoes r on iddesp = id\").show()"
   ]
  },
  {
   "cell_type": "code",
   "execution_count": null,
   "id": "1f659fb3-83e4-4d4a-9abe-45d9aa9817ed",
   "metadata": {},
   "outputs": [],
   "source": [
    "spark.sql(\"select d.nome, r.* from reclamacoes r left join despachantes d  on iddesp = id\").show()"
   ]
  },
  {
   "cell_type": "code",
   "execution_count": null,
   "id": "d4b45f2c-294a-4917-b0e0-bf15f417a91e",
   "metadata": {},
   "outputs": [],
   "source": [
    "despachantes.join(reclamacoes, on=[despachantes.id == reclamacoes.iddesp], how=\"left\").show()"
   ]
  },
  {
   "cell_type": "markdown",
   "id": "ed306cdb-0843-43b1-91ed-f3db6287de64",
   "metadata": {},
   "source": [
    "### Atividade"
   ]
  },
  {
   "cell_type": "code",
   "execution_count": null,
   "id": "b0b68a8a-cbf2-465d-ba58-44a24e106711",
   "metadata": {},
   "outputs": [],
   "source": []
  },
  {
   "cell_type": "code",
   "execution_count": null,
   "id": "23cbd9da-f011-49c5-b208-5e2eabd855e4",
   "metadata": {},
   "outputs": [],
   "source": [
    "spark.sql(\"create database VendasVarejo\").show()"
   ]
  },
  {
   "cell_type": "code",
   "execution_count": null,
   "id": "de253c41-9383-495a-a8d9-f078a16456ca",
   "metadata": {},
   "outputs": [],
   "source": [
    "df_clientes.write.saveAsTable(\"clientes\")\n",
    "df_ivendas.write.saveAsTable(\"itens_vendas\")\n",
    "df_produtos.write.saveAsTable(\"produtos\")\n",
    "df_vendas.write.saveAsTable(\"vendas\")\n",
    "df_vendedores.write.saveAsTable(\"vendedores\")"
   ]
  },
  {
   "cell_type": "code",
   "execution_count": null,
   "id": "558f2ebb-99d7-405f-8312-7b6c9a2f5d16",
   "metadata": {},
   "outputs": [],
   "source": [
    "spark.sql(\"show tables\").show()"
   ]
  },
  {
   "cell_type": "code",
   "execution_count": null,
   "id": "e5ce9216-5864-4395-90ae-0e000ab5813e",
   "metadata": {},
   "outputs": [],
   "source": [
    "df_ativ = spark.sql(\"select c.Cliente, v.Data, p.Produto, vd.Vendedor, iv.ValorTotal from itens_vendas iv inner join \\\n",
    "            vendas v on iv.VendasID = v.VendasID inner join\\\n",
    "            clientes c on c.ClienteID = v.ClienteID inner join\\\n",
    "            produtos p on p.ProdutoID = iv.ProdutoID inner join\\\n",
    "            vendedores vd on v.VendedorID = vd.VendedorID\")"
   ]
  },
  {
   "cell_type": "code",
   "execution_count": null,
   "id": "556a8c87-0f46-4ad4-b9fa-e498acd3db24",
   "metadata": {},
   "outputs": [],
   "source": [
    "df_ativ.groupBy(\"Vendedor\").agg(f.round(f.sum(\"ValorTotal\"), 2).alias(\"total\")).orderBy(\"total\").show()"
   ]
  },
  {
   "cell_type": "code",
   "execution_count": null,
   "id": "788386b8-4bf4-46ad-be16-c780783e5248",
   "metadata": {},
   "outputs": [],
   "source": [
    "df_ativ.groupBy(\"Produto\").agg(f.count(\"Produto\").alias(\"total_prod\")).show(truncate=False)"
   ]
  },
  {
   "cell_type": "code",
   "execution_count": null,
   "id": "02408043-808c-485b-9d89-851ac849c056",
   "metadata": {},
   "outputs": [],
   "source": [
    "df_ativ.count()"
   ]
  },
  {
   "cell_type": "code",
   "execution_count": null,
   "id": "0e99eb6a-5df8-44c4-8b87-eac06fb51428",
   "metadata": {},
   "outputs": [],
   "source": [
    "df_ivendas.count()"
   ]
  },
  {
   "cell_type": "markdown",
   "id": "8ef4617f-ca59-4ea4-8a7a-f742e41319b7",
   "metadata": {},
   "source": [
    "## Outras fontes de dados"
   ]
  },
  {
   "cell_type": "markdown",
   "id": "20c37272-c288-4cca-b794-7b76374f2c68",
   "metadata": {},
   "source": [
    "### Postgres"
   ]
  },
  {
   "cell_type": "code",
   "execution_count": null,
   "id": "588a5d4b-0169-474a-a4df-b9717b754393",
   "metadata": {},
   "outputs": [],
   "source": []
  },
  {
   "cell_type": "code",
   "execution_count": null,
   "id": "a73bc52e-7f82-4e3f-ad88-1fb3ab6dbf46",
   "metadata": {},
   "outputs": [],
   "source": [
    "#Lendo\n",
    "resumo = spark.read.format(\"jdbc\")\\\n",
    ".option(\"url\",\"jdbc:postgresql://localhost:5432/vendas\")\\\n",
    ".option(\"dbtable\",\"Vendas\")\\\n",
    ".option(\"user\",\"postgres\")\\\n",
    ".option(\"password\",\"postgres\")\\\n",
    ".option(\"driver\",\"org.postgresql.Driver\").load()"
   ]
  },
  {
   "cell_type": "code",
   "execution_count": null,
   "id": "a609916f-117b-4a6d-b78c-2a3413b67dce",
   "metadata": {},
   "outputs": [],
   "source": [
    "resumo.show(3)"
   ]
  },
  {
   "cell_type": "code",
   "execution_count": null,
   "id": "3d6f1b6c-0b1e-4d01-984f-5f1206870265",
   "metadata": {},
   "outputs": [],
   "source": [
    "#tranformar dados\n",
    "vendadata = resumo.select(\"data\",\"total\")"
   ]
  },
  {
   "cell_type": "code",
   "execution_count": null,
   "id": "0e18f146-000b-417a-a397-2d1ef09c1cf0",
   "metadata": {},
   "outputs": [],
   "source": [
    "vendadata.count()"
   ]
  },
  {
   "cell_type": "code",
   "execution_count": null,
   "id": "b29ddd92-2304-493c-be3a-f33bc5d560a2",
   "metadata": {},
   "outputs": [],
   "source": [
    "#gravar dados na origem\n",
    "vendadata.write.format(\"jdbc\")\\\n",
    ".option(\"url\",\"jdbc:postgresql://localhost:5432/vendas\")\\\n",
    ".option(\"dbtable\",\"vendadata\").option(\"user\",\"postgres\")\\\n",
    ".option(\"password\",\"postgres\").option(\"driver\",\"org.postgresql.Driver\").save()"
   ]
  },
  {
   "cell_type": "code",
   "execution_count": null,
   "id": "30b0b241-225a-4fe2-aad4-5471866e8ecb",
   "metadata": {},
   "outputs": [],
   "source": [
    " "
   ]
  },
  {
   "cell_type": "markdown",
   "id": "4b519024-da2b-4d57-a60b-143694f452d6",
   "metadata": {},
   "source": [
    "### Mongo"
   ]
  },
  {
   "cell_type": "code",
   "execution_count": 4,
   "id": "02bfeed6-4c9c-499f-a7e8-0c14e93337dd",
   "metadata": {},
   "outputs": [],
   "source": [
    "posts = spark.read.format(\"mongo\")\\\n",
    ".option(\"uri\",\"mongodb://localhost/posts.post\").load()"
   ]
  },
  {
   "cell_type": "code",
   "execution_count": 9,
   "id": "3956efce-2086-48ab-a70a-0107025bfa79",
   "metadata": {},
   "outputs": [
    {
     "name": "stdout",
     "output_type": "stream",
     "text": [
      "+--------------------------+-----+--------------+-----------------------------+\n",
      "|_id                       |data |nome          |postagem                     |\n",
      "+--------------------------+-----+--------------+-----------------------------+\n",
      "|{629cda3fe2b776945cd01b56}|43586|Afonso Silvera|òtima qualidade              |\n",
      "|{629cda3fe2b776945cd01b57}|43532|Albino Almeida|recomendo, vou voltar sempre |\n",
      "|{629cda3fe2b776945cd01b58}|43612|Albino Bulhões|Produtos caros               |\n",
      "|{629cda3fe2b776945cd01b59}|43630|Aldo Quintão  |Não encontrei o que precisava|\n",
      "|{629cda3fe2b776945cd01b5a}|43507|Alice Moita   |Produtos caros               |\n",
      "+--------------------------+-----+--------------+-----------------------------+\n",
      "only showing top 5 rows\n",
      "\n"
     ]
    }
   ],
   "source": [
    "posts.show(5, truncate=False)"
   ]
  },
  {
   "cell_type": "code",
   "execution_count": 18,
   "id": "2ca73523-1360-46d0-bbd5-05d44e77aacd",
   "metadata": {},
   "outputs": [],
   "source": [
    "from pyspark.sql.window import Window\n",
    "from pyspark.sql.functions import row_number\n",
    "\n",
    "windowSpec  = Window.partitionBy(\"nome\").orderBy(\"data\")\n",
    "\n",
    "posts = posts.withColumn(\"row_number\",row_number().over(windowSpec))"
   ]
  },
  {
   "cell_type": "code",
   "execution_count": 20,
   "id": "fa1a3dae-8c5a-479f-9d28-7d524584f6d6",
   "metadata": {},
   "outputs": [
    {
     "name": "stdout",
     "output_type": "stream",
     "text": [
      "+--------------------+-----+------------------+--------------------+----------+\n",
      "|                 _id| data|              nome|            postagem|row_number|\n",
      "+--------------------+-----+------------------+--------------------+----------+\n",
      "|{629cda3fe2b77694...|43519|      Álvaro Homem|recomendo, vou vo...|         1|\n",
      "|{629cda3fe2b77694...|43620|    Poliana Chávez|      Produtos caros|         1|\n",
      "|{629cda3fe2b77694...|43645|   Arminda Santana|   Otima localização|         1|\n",
      "|{629cda3fe2b77694...|43549|Delfina Alencastre|     òtima qualidade|         1|\n",
      "|{629cda3fe2b77694...|43628|    Ordonho Fontes|Não encontrei o q...|         1|\n",
      "+--------------------+-----+------------------+--------------------+----------+\n",
      "only showing top 5 rows\n",
      "\n"
     ]
    }
   ],
   "source": [
    "posts.show(5)"
   ]
  },
  {
   "cell_type": "code",
   "execution_count": 21,
   "id": "457569a8-fb97-45d2-b483-b4d1f8559b07",
   "metadata": {},
   "outputs": [],
   "source": [
    "posts.write.format(\"mongo\")\\\n",
    ".option(\"uri\",\"mongodb://localhost/posts2.post\").save()"
   ]
  },
  {
   "cell_type": "code",
   "execution_count": null,
   "id": "aa3ddd03-a806-4091-9d9c-8bcd0e1f7277",
   "metadata": {},
   "outputs": [],
   "source": []
  }
 ],
 "metadata": {
  "kernelspec": {
   "display_name": "Python 3 (ipykernel)",
   "language": "python",
   "name": "python3"
  },
  "language_info": {
   "codemirror_mode": {
    "name": "ipython",
    "version": 3
   },
   "file_extension": ".py",
   "mimetype": "text/x-python",
   "name": "python",
   "nbconvert_exporter": "python",
   "pygments_lexer": "ipython3",
   "version": "3.6.9"
  }
 },
 "nbformat": 4,
 "nbformat_minor": 5
}
